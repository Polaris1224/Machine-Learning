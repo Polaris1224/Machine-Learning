{
 "cells": [
  {
   "cell_type": "markdown",
   "metadata": {},
   "source": [
    "# Convolutional Neural Networks: Application\n",
    "\n",
    "Welcome to Course 4's second assignment! In this notebook, you will:\n",
    "\n",
    "- Create a mood classifer using the TF Keras Sequential API\n",
    "- Build a ConvNet to identify sign language digits using the TF Keras Functional API\n",
    "\n",
    "**After this assignment you will be able to:**\n",
    "\n",
    "- Build and train a ConvNet in TensorFlow for a __binary__ classification problem\n",
    "- Build and train a ConvNet in TensorFlow for a __multiclass__ classification problem\n",
    "- Explain different use cases for the Sequential and Functional APIs\n",
    "\n",
    "To complete this assignment, you should already be familiar with TensorFlow. If you are not, please refer back to the **TensorFlow Tutorial** of the third week of Course 2 (\"**Improving deep neural networks**\").\n",
    "\n",
    "## Important Note on Submission to the AutoGrader\n",
    "\n",
    "Before submitting your assignment to the AutoGrader, please make sure you are not doing the following:\n",
    "\n",
    "1. You have not added any _extra_ `print` statement(s) in the assignment.\n",
    "2. You have not added any _extra_ code cell(s) in the assignment.\n",
    "3. You have not changed any of the function parameters.\n",
    "4. You are not using any global variables inside your graded exercises. Unless specifically instructed to do so, please refrain from it and use the local variables instead.\n",
    "5. You are not changing the assignment code where it is not required, like creating _extra_ variables.\n",
    "\n",
    "If you do any of the following, you will get something like, `Grader Error: Grader feedback not found` (or similarly unexpected) error upon submitting your assignment. Before asking for help/debugging the errors in your assignment, check for these first. If this is the case, and you don't remember the changes you have made, you can get a fresh copy of the assignment by following these [instructions](https://www.coursera.org/learn/convolutional-neural-networks/supplement/DS4yP/h-ow-to-refresh-your-workspace)."
   ]
  },
  {
   "cell_type": "markdown",
   "metadata": {},
   "source": [
    "## Table of Contents\n",
    "\n",
    "- [1 - Packages](#1)\n",
    "    - [1.1 - Load the Data and Split the Data into Train/Test Sets](#1-1)\n",
    "- [2 - Layers in TF Keras](#2)\n",
    "- [3 - The Sequential API](#3)\n",
    "    - [3.1 - Create the Sequential Model](#3-1)\n",
    "        - [Exercise 1 - happyModel](#ex-1)\n",
    "    - [3.2 - Train and Evaluate the Model](#3-2)\n",
    "- [4 - The Functional API](#4)\n",
    "    - [4.1 - Load the SIGNS Dataset](#4-1)\n",
    "    - [4.2 - Split the Data into Train/Test Sets](#4-2)\n",
    "    - [4.3 - Forward Propagation](#4-3)\n",
    "        - [Exercise 2 - convolutional_model](#ex-2)\n",
    "    - [4.4 - Train the Model](#4-4)\n",
    "- [5 - History Object](#5)\n",
    "- [6 - Bibliography](#6)"
   ]
  },
  {
   "cell_type": "markdown",
   "metadata": {},
   "source": [
    "<a name='1'></a>\n",
    "## 1 - Packages\n",
    "\n",
    "As usual, begin by loading in the packages."
   ]
  },
  {
   "cell_type": "code",
   "execution_count": 5,
   "metadata": {
    "deletable": false,
    "editable": false
   },
   "outputs": [],
   "source": [
    "### v1.1"
   ]
  },
  {
   "cell_type": "code",
   "execution_count": 7,
   "metadata": {},
   "outputs": [
    {
     "name": "stderr",
     "output_type": "stream",
     "text": [
      "C:\\Users\\Victus\\anaconda3\\envs\\machineLearningEnv\\lib\\site-packages\\tensorflow\\python\\framework\\dtypes.py:516: FutureWarning: Passing (type, 1) or '1type' as a synonym of type is deprecated; in a future version of numpy, it will be understood as (type, (1,)) / '(1,)type'.\n",
      "  _np_qint8 = np.dtype([(\"qint8\", np.int8, 1)])\n",
      "C:\\Users\\Victus\\anaconda3\\envs\\machineLearningEnv\\lib\\site-packages\\tensorflow\\python\\framework\\dtypes.py:517: FutureWarning: Passing (type, 1) or '1type' as a synonym of type is deprecated; in a future version of numpy, it will be understood as (type, (1,)) / '(1,)type'.\n",
      "  _np_quint8 = np.dtype([(\"quint8\", np.uint8, 1)])\n",
      "C:\\Users\\Victus\\anaconda3\\envs\\machineLearningEnv\\lib\\site-packages\\tensorflow\\python\\framework\\dtypes.py:518: FutureWarning: Passing (type, 1) or '1type' as a synonym of type is deprecated; in a future version of numpy, it will be understood as (type, (1,)) / '(1,)type'.\n",
      "  _np_qint16 = np.dtype([(\"qint16\", np.int16, 1)])\n",
      "C:\\Users\\Victus\\anaconda3\\envs\\machineLearningEnv\\lib\\site-packages\\tensorflow\\python\\framework\\dtypes.py:519: FutureWarning: Passing (type, 1) or '1type' as a synonym of type is deprecated; in a future version of numpy, it will be understood as (type, (1,)) / '(1,)type'.\n",
      "  _np_quint16 = np.dtype([(\"quint16\", np.uint16, 1)])\n",
      "C:\\Users\\Victus\\anaconda3\\envs\\machineLearningEnv\\lib\\site-packages\\tensorflow\\python\\framework\\dtypes.py:520: FutureWarning: Passing (type, 1) or '1type' as a synonym of type is deprecated; in a future version of numpy, it will be understood as (type, (1,)) / '(1,)type'.\n",
      "  _np_qint32 = np.dtype([(\"qint32\", np.int32, 1)])\n",
      "C:\\Users\\Victus\\anaconda3\\envs\\machineLearningEnv\\lib\\site-packages\\tensorflow\\python\\framework\\dtypes.py:525: FutureWarning: Passing (type, 1) or '1type' as a synonym of type is deprecated; in a future version of numpy, it will be understood as (type, (1,)) / '(1,)type'.\n",
      "  np_resource = np.dtype([(\"resource\", np.ubyte, 1)])\n",
      "C:\\Users\\Victus\\anaconda3\\envs\\machineLearningEnv\\lib\\site-packages\\tensorboard\\compat\\tensorflow_stub\\dtypes.py:541: FutureWarning: Passing (type, 1) or '1type' as a synonym of type is deprecated; in a future version of numpy, it will be understood as (type, (1,)) / '(1,)type'.\n",
      "  _np_qint8 = np.dtype([(\"qint8\", np.int8, 1)])\n",
      "C:\\Users\\Victus\\anaconda3\\envs\\machineLearningEnv\\lib\\site-packages\\tensorboard\\compat\\tensorflow_stub\\dtypes.py:542: FutureWarning: Passing (type, 1) or '1type' as a synonym of type is deprecated; in a future version of numpy, it will be understood as (type, (1,)) / '(1,)type'.\n",
      "  _np_quint8 = np.dtype([(\"quint8\", np.uint8, 1)])\n",
      "C:\\Users\\Victus\\anaconda3\\envs\\machineLearningEnv\\lib\\site-packages\\tensorboard\\compat\\tensorflow_stub\\dtypes.py:543: FutureWarning: Passing (type, 1) or '1type' as a synonym of type is deprecated; in a future version of numpy, it will be understood as (type, (1,)) / '(1,)type'.\n",
      "  _np_qint16 = np.dtype([(\"qint16\", np.int16, 1)])\n",
      "C:\\Users\\Victus\\anaconda3\\envs\\machineLearningEnv\\lib\\site-packages\\tensorboard\\compat\\tensorflow_stub\\dtypes.py:544: FutureWarning: Passing (type, 1) or '1type' as a synonym of type is deprecated; in a future version of numpy, it will be understood as (type, (1,)) / '(1,)type'.\n",
      "  _np_quint16 = np.dtype([(\"quint16\", np.uint16, 1)])\n",
      "C:\\Users\\Victus\\anaconda3\\envs\\machineLearningEnv\\lib\\site-packages\\tensorboard\\compat\\tensorflow_stub\\dtypes.py:545: FutureWarning: Passing (type, 1) or '1type' as a synonym of type is deprecated; in a future version of numpy, it will be understood as (type, (1,)) / '(1,)type'.\n",
      "  _np_qint32 = np.dtype([(\"qint32\", np.int32, 1)])\n",
      "C:\\Users\\Victus\\anaconda3\\envs\\machineLearningEnv\\lib\\site-packages\\tensorboard\\compat\\tensorflow_stub\\dtypes.py:550: FutureWarning: Passing (type, 1) or '1type' as a synonym of type is deprecated; in a future version of numpy, it will be understood as (type, (1,)) / '(1,)type'.\n",
      "  np_resource = np.dtype([(\"resource\", np.ubyte, 1)])\n"
     ]
    }
   ],
   "source": [
    "import math\n",
    "import numpy as np\n",
    "import h5py\n",
    "import matplotlib.pyplot as plt\n",
    "from matplotlib.pyplot import imread\n",
    "import scipy\n",
    "from PIL import Image\n",
    "import pandas as pd\n",
    "import tensorflow as tf\n",
    "import tensorflow.keras.layers as tfl\n",
    "from tensorflow.python.framework import ops\n",
    "from cnn_utils import *\n",
    "from test_utils import summary, comparator\n",
    "\n",
    "%matplotlib inline\n",
    "np.random.seed(1)"
   ]
  },
  {
   "cell_type": "markdown",
   "metadata": {},
   "source": [
    "<a name='1-1'></a>\n",
    "### 1.1 - Load the Data and Split the Data into Train/Test Sets\n",
    "\n",
    "You'll be using the Happy House dataset for this part of the assignment, which contains images of peoples' faces. Your task will be to build a ConvNet that determines whether the people in the images are smiling or not -- because they only get to enter the house if they're smiling!  "
   ]
  },
  {
   "cell_type": "code",
   "execution_count": 12,
   "metadata": {},
   "outputs": [
    {
     "name": "stdout",
     "output_type": "stream",
     "text": [
      "number of training examples = 600\n",
      "number of test examples = 150\n",
      "X_train shape: (600, 64, 64, 3)\n",
      "Y_train shape: (600, 1)\n",
      "X_test shape: (150, 64, 64, 3)\n",
      "Y_test shape: (150, 1)\n"
     ]
    }
   ],
   "source": [
    "X_train_orig, Y_train_orig, X_test_orig, Y_test_orig, classes = load_happy_dataset()\n",
    "\n",
    "# Normalize image vectors\n",
    "X_train = X_train_orig/255.\n",
    "X_test = X_test_orig/255.\n",
    "\n",
    "# Reshape\n",
    "Y_train = Y_train_orig.T\n",
    "Y_test = Y_test_orig.T\n",
    "\n",
    "print (\"number of training examples = \" + str(X_train.shape[0]))\n",
    "print (\"number of test examples = \" + str(X_test.shape[0]))\n",
    "print (\"X_train shape: \" + str(X_train.shape))\n",
    "print (\"Y_train shape: \" + str(Y_train.shape))\n",
    "print (\"X_test shape: \" + str(X_test.shape))\n",
    "print (\"Y_test shape: \" + str(Y_test.shape))"
   ]
  },
  {
   "cell_type": "markdown",
   "metadata": {},
   "source": [
    "You can display the images contained in the dataset. Images are **64x64** pixels in RGB format (3 channels)."
   ]
  },
  {
   "cell_type": "code",
   "execution_count": 15,
   "metadata": {},
   "outputs": [
    {
     "data": {
      "image/png": "[encoded data removed]",
      "text/plain": [
       "<Figure size 640x480 with 1 Axes>"
      ]
     },
     "metadata": {},
     "output_type": "display_data"
    }
   ],
   "source": [
    "index = 124\n",
    "plt.imshow(X_train_orig[index]) #display sample training image\n",
    "plt.show()"
   ]
  },
  {
   "cell_type": "markdown",
   "metadata": {},
   "source": [
    "<a name='2'></a>\n",
    "## 2 - Layers in TF Keras \n",
    "\n",
    "In the previous assignment, you created layers manually in numpy. In TF Keras, you don't have to write code directly to create layers. Rather, TF Keras has pre-defined layers you can use. \n",
    "\n",
    "When you create a layer in TF Keras, you are creating a function that takes some input and transforms it into an output you can reuse later. Nice and easy! "
   ]
  },
  {
   "cell_type": "markdown",
   "metadata": {},
   "source": [
    "<a name='3'></a>\n",
    "## 3 - The Sequential API\n",
    "\n",
    "In the previous assignment, you built helper functions using `numpy` to understand the mechanics behind convolutional neural networks. Most practical applications of deep learning today are built using programming frameworks, which have many built-in functions you can simply call. Keras is a high-level abstraction built on top of TensorFlow, which allows for even more simplified and optimized model creation and training. \n",
    "\n",
    "For the first part of this assignment, you'll create a model using TF Keras' Sequential API, which allows you to build layer by layer, and is ideal for building models where each layer has **exactly one** input tensor and **one** output tensor. \n",
    "\n",
    "As you'll see, using the Sequential API is simple and straightforward, but is only appropriate for simpler, more straightforward tasks. Later in this notebook you'll spend some time building with a more flexible, powerful alternative: the Functional API. \n",
    " "
   ]
  },
  {
   "cell_type": "markdown",
   "metadata": {},
   "source": [
    "<a name='3-1'></a>\n",
    "### 3.1 - Create the Sequential Model\n",
    "\n",
    "As mentioned earlier, the TensorFlow Keras Sequential API can be used to build simple models with layer operations that proceed in a sequential order. \n",
    "\n",
    "You can also add layers incrementally to a Sequential model with the `.add()` method, or remove them using the `.pop()` method, much like you would in a regular Python list.\n",
    "\n",
    "Actually, you can think of a Sequential model as behaving like a list of layers. Like Python lists, Sequential layers are ordered, and the order in which they are specified matters.  If your model is non-linear or contains layers with multiple inputs or outputs, a Sequential model wouldn't be the right choice!\n",
    "\n",
    "For any layer construction in Keras, you'll need to specify the input shape in advance. This is because in Keras, the shape of the weights is based on the shape of the inputs. The weights are only created when the model first sees some input data. Sequential models can be created by passing a list of layers to the Sequential constructor, like you will do in the next assignment.\n",
    "\n",
    "<a name='ex-1'></a>\n",
    "### Exercise 1 - happyModel\n",
    "\n",
    "Implement the `happyModel` function below to build the following model: `ZEROPAD2D -> CONV2D -> BATCHNORM -> RELU -> MAXPOOL -> FLATTEN -> DENSE`. Take help from [tf.keras.layers](https://www.tensorflow.org/api_docs/python/tf/keras/layers) \n",
    "\n",
    "Also, plug in the following parameters for all the steps:\n",
    "\n",
    " - [ZeroPadding2D](https://www.tensorflow.org/api_docs/python/tf/keras/layers/ZeroPadding2D): padding 3, input shape 64 x 64 x 3\n",
    " - [Conv2D](https://www.tensorflow.org/api_docs/python/tf/keras/layers/Conv2D): Use 32 7x7 filters, stride 1\n",
    " - [BatchNormalization](https://www.tensorflow.org/api_docs/python/tf/keras/layers/BatchNormalization): for axis 3\n",
    " - [ReLU](https://www.tensorflow.org/api_docs/python/tf/keras/layers/ReLU)\n",
    " - [MaxPool2D](https://www.tensorflow.org/api_docs/python/tf/keras/layers/MaxPool2D): Using default parameters\n",
    " - [Flatten](https://www.tensorflow.org/api_docs/python/tf/keras/layers/Flatten) the previous output.\n",
    " - Fully-connected ([Dense](https://www.tensorflow.org/api_docs/python/tf/keras/layers/Dense)) layer: Apply a fully connected layer with 1 neuron and a sigmoid activation. \n",
    " \n",
    " \n",
    " **Hint:**\n",
    " \n",
    " Use **tfl** as shorthand for **tensorflow.keras.layers**"
   ]
  },
  {
   "cell_type": "code",
   "execution_count": 28,
   "metadata": {
    "deletable": false,
    "nbgrader": {
     "cell_type": "code",
     "checksum": "95d28b191f257bdd5b70c7b8952559d5",
     "grade": false,
     "grade_id": "cell-0e56d3fc28b69aec",
     "locked": false,
     "schema_version": 3,
     "solution": true,
     "task": false
    }
   },
   "outputs": [],
   "source": [
    "# GRADED FUNCTION: happyModel\n",
    "\n",
    "def happyModel():\n",
    "    \"\"\"\n",
    "    Implements the forward propagation for the binary classification model:\n",
    "    ZEROPAD2D -> CONV2D -> BATCHNORM -> RELU -> MAXPOOL -> FLATTEN -> DENSE\n",
    "    \n",
    "    Note that for simplicity and grading purposes, you'll hard-code all the values\n",
    "    such as the stride and kernel (filter) sizes. \n",
    "    Normally, functions should take these values as function parameters.\n",
    "    \n",
    "    Arguments:\n",
    "    None\n",
    "\n",
    "    Returns:\n",
    "    model -- TF Keras model (object containing the information for the entire training process) \n",
    "    \"\"\"\n",
    "    model = tf.keras.Sequential([\n",
    "            ## ZeroPadding2D with padding 3, input shape of 64 x 64 x 3\n",
    "            \n",
    "            ## Conv2D with 32 7x7 filters and stride of 1\n",
    "            \n",
    "            ## BatchNormalization for axis 3\n",
    "            \n",
    "            ## ReLU\n",
    "            \n",
    "            ## Max Pooling 2D with default parameters\n",
    "            \n",
    "            ## Flatten layer\n",
    "            \n",
    "            ## Dense layer with 1 unit for output & 'sigmoid' activation\n",
    "            \n",
    "            # YOUR CODE STARTS HERE\n",
    "            tf.keras.layers.ZeroPadding2D(padding=(3, 3), input_shape=(64, 64, 3)),\n",
    "            tf.keras.layers.Conv2D(32, (7, 7), strides=(1, 1)),\n",
    "            tf.keras.layers.BatchNormalization(axis=3),\n",
    "            tf.keras.layers.ReLU(),\n",
    "            tf.keras.layers.MaxPooling2D(),\n",
    "            tf.keras.layers.Flatten(),\n",
    "            tf.keras.layers.Dense(1, activation='sigmoid')\n",
    "            # YOUR CODE ENDS HERE\n",
    "        ])\n",
    "    \n",
    "    return model"
   ]
  },
  {
   "cell_type": "code",
   "execution_count": 30,
   "metadata": {
    "deletable": false,
    "editable": false,
    "nbgrader": {
     "cell_type": "code",
     "checksum": "8d3575c950e2e78149be2d05d671c80d",
     "grade": true,
     "grade_id": "cell-e3e1046e5c33d775",
     "locked": true,
     "points": 10,
     "schema_version": 3,
     "solution": false,
     "task": false
    }
   },
   "outputs": [
    {
     "name": "stdout",
     "output_type": "stream",
     "text": [
      "['ZeroPadding2D', (None, 70, 70, 3), 0, ((3, 3), (3, 3))]\n",
      "['Conv2D', (None, 64, 64, 32), 4736, 'valid', 'linear', 'GlorotUniform']\n",
      "['BatchNormalization', (None, 64, 64, 32), 128]\n",
      "['ReLU', (None, 64, 64, 32), 0]\n",
      "['MaxPooling2D', (None, 32, 32, 32), 0, (2, 2), (2, 2), 'valid']\n",
      "['Flatten', (None, 32768), 0]\n",
      "['Dense', (None, 1), 32769, 'sigmoid']\n",
      "All tests passed!\n"
     ]
    }
   ],
   "source": [
    "happy_model = happyModel()\n",
    "# Print a summary for each layer\n",
    "for layer in summary(happy_model):\n",
    "    print(layer)\n",
    "    \n",
    "output = [['ZeroPadding2D', (None, 70, 70, 3), 0, ((3, 3), (3, 3))],\n",
    "            ['Conv2D', (None, 64, 64, 32), 4736, 'valid', 'linear', 'GlorotUniform'],\n",
    "            ['BatchNormalization', (None, 64, 64, 32), 128],\n",
    "            ['ReLU', (None, 64, 64, 32), 0],\n",
    "            ['MaxPooling2D', (None, 32, 32, 32), 0, (2, 2), (2, 2), 'valid'],\n",
    "            ['Flatten', (None, 32768), 0],\n",
    "            ['Dense', (None, 1), 32769, 'sigmoid']]\n",
    "    \n",
    "comparator(summary(happy_model), output)"
   ]
  },
  {
   "cell_type": "markdown",
   "metadata": {},
   "source": [
    "#### Expected Output:\n",
    "\n",
    "```\n",
    "['ZeroPadding2D', (None, 70, 70, 3), 0, ((3, 3), (3, 3))]\n",
    "['Conv2D', (None, 64, 64, 32), 4736, 'valid', 'linear', 'GlorotUniform']\n",
    "['BatchNormalization', (None, 64, 64, 32), 128]\n",
    "['ReLU', (None, 64, 64, 32), 0]\n",
    "['MaxPooling2D', (None, 32, 32, 32), 0, (2, 2), (2, 2), 'valid']\n",
    "['Flatten', (None, 32768), 0]\n",
    "['Dense', (None, 1), 32769, 'sigmoid']\n",
    "All tests passed!\n",
    "```"
   ]
  },
  {
   "cell_type": "markdown",
   "metadata": {},
   "source": [
    "Now that your model is created, you can compile it for training with an optimizer and loss of your choice. When the string `accuracy` is specified as a metric, the type of accuracy used will be automatically converted based on the loss function used. This is one of the many optimizations built into TensorFlow that make your life easier! If you'd like to read more on how the compiler operates, check the docs [here](https://www.tensorflow.org/api_docs/python/tf/keras/Model#compile)."
   ]
  },
  {
   "cell_type": "code",
   "execution_count": 34,
   "metadata": {},
   "outputs": [
    {
     "name": "stdout",
     "output_type": "stream",
     "text": [
      "WARNING:tensorflow:From C:\\Users\\Victus\\anaconda3\\envs\\machineLearningEnv\\lib\\site-packages\\tensorflow\\python\\ops\\nn_impl.py:180: add_dispatch_support.<locals>.wrapper (from tensorflow.python.ops.array_ops) is deprecated and will be removed in a future version.\n",
      "Instructions for updating:\n",
      "Use tf.where in 2.0, which has the same broadcast rule as np.where\n"
     ]
    }
   ],
   "source": [
    "happy_model.compile(optimizer='adam',\n",
    "                   loss='binary_crossentropy',\n",
    "                   metrics=['accuracy'])"
   ]
  },
  {
   "cell_type": "markdown",
   "metadata": {},
   "source": [
    "It's time to check your model's parameters with the `.summary()` method. This will display the types of layers you have, the shape of the outputs, and how many parameters are in each layer. "
   ]
  },
  {
   "cell_type": "code",
   "execution_count": 37,
   "metadata": {},
   "outputs": [
    {
     "name": "stdout",
     "output_type": "stream",
     "text": [
      "Model: \"sequential\"\n",
      "_________________________________________________________________\n",
      "Layer (type)                 Output Shape              Param #   \n",
      "=================================================================\n",
      "zero_padding2d_2 (ZeroPaddin (None, 70, 70, 3)         0         \n",
      "_________________________________________________________________\n",
      "conv2d_2 (Conv2D)            (None, 64, 64, 32)        4736      \n",
      "_________________________________________________________________\n",
      "batch_normalization_1 (Batch (None, 64, 64, 32)        128       \n",
      "_________________________________________________________________\n",
      "re_lu (ReLU)                 (None, 64, 64, 32)        0         \n",
      "_________________________________________________________________\n",
      "max_pooling2d (MaxPooling2D) (None, 32, 32, 32)        0         \n",
      "_________________________________________________________________\n",
      "flatten (Flatten)            (None, 32768)             0         \n",
      "_________________________________________________________________\n",
      "dense (Dense)                (None, 1)                 32769     \n",
      "=================================================================\n",
      "Total params: 37,633\n",
      "Trainable params: 37,569\n",
      "Non-trainable params: 64\n",
      "_________________________________________________________________\n"
     ]
    }
   ],
   "source": [
    "happy_model.summary()"
   ]
  },
  {
   "cell_type": "markdown",
   "metadata": {},
   "source": [
    "<a name='3-2'></a>\n",
    "### 3.2 - Train and Evaluate the Model\n",
    "\n",
    "After creating the model, compiling it with your choice of optimizer and loss function, and doing a sanity check on its contents, you are now ready to build! \n",
    "\n",
    "Simply call `.fit()` to train. That's it! No need for mini-batching, saving, or complex backpropagation computations. That's all been done for you, as you're using a TensorFlow dataset with the batches specified already. You do have the option to specify epoch number or minibatch size if you like (for example, in the case of an un-batched dataset)."
   ]
  },
  {
   "cell_type": "code",
   "execution_count": 40,
   "metadata": {},
   "outputs": [
    {
     "name": "stdout",
     "output_type": "stream",
     "text": [
      "Epoch 1/10\n",
      "600/600 [==============================] - 2s 4ms/sample - loss: 1.8468 - acc: 0.6450\n",
      "Epoch 2/10\n",
      "600/600 [==============================] - 2s 4ms/sample - loss: 0.3152 - acc: 0.8700\n",
      "Epoch 3/10\n",
      "600/600 [==============================] - 2s 4ms/sample - loss: 0.1587 - acc: 0.9567\n",
      "Epoch 4/10\n",
      "600/600 [==============================] - 2s 4ms/sample - loss: 0.1795 - acc: 0.9350\n",
      "Epoch 5/10\n",
      "600/600 [==============================] - 2s 4ms/sample - loss: 0.1382 - acc: 0.9517\n",
      "Epoch 6/10\n",
      "600/600 [==============================] - 2s 4ms/sample - loss: 0.1559 - acc: 0.9467\n",
      "Epoch 7/10\n",
      "600/600 [==============================] - 2s 4ms/sample - loss: 0.0778 - acc: 0.9717\n",
      "Epoch 8/10\n",
      "600/600 [==============================] - 2s 4ms/sample - loss: 0.0590 - acc: 0.9817\n",
      "Epoch 9/10\n",
      "600/600 [==============================] - 2s 4ms/sample - loss: 0.0717 - acc: 0.9867\n",
      "Epoch 10/10\n",
      "600/600 [==============================] - 2s 4ms/sample - loss: 0.0850 - acc: 0.9667\n"
     ]
    },
    {
     "data": {
      "text/plain": [
       "<tensorflow.python.keras.callbacks.History at 0x206b3c15948>"
      ]
     },
     "execution_count": 40,
     "metadata": {},
     "output_type": "execute_result"
    }
   ],
   "source": [
    "happy_model.fit(X_train, Y_train, epochs=10, batch_size=16)"
   ]
  },
  {
   "cell_type": "markdown",
   "metadata": {},
   "source": [
    "After that completes, just use `.evaluate()` to evaluate against your test set. This function will print the value of the loss function and the performance metrics specified during the compilation of the model. In this case, the `binary_crossentropy` and the `accuracy` respectively."
   ]
  },
  {
   "cell_type": "code",
   "execution_count": 43,
   "metadata": {},
   "outputs": [
    {
     "name": "stdout",
     "output_type": "stream",
     "text": [
      "150/150 [==============================] - 0s 664us/sample - loss: 0.6213 - acc: 0.6933\n"
     ]
    },
    {
     "data": {
      "text/plain": [
       "[0.6213021437327068, 0.6933333]"
      ]
     },
     "execution_count": 43,
     "metadata": {},
     "output_type": "execute_result"
    }
   ],
   "source": [
    "happy_model.evaluate(X_test, Y_test)"
   ]
  },
  {
   "cell_type": "markdown",
   "metadata": {},
   "source": [
    "Easy, right? But what if you need to build a model with shared layers, branches, or multiple inputs and outputs? This is where Sequential, with its beautifully simple yet limited functionality, won't be able to help you. \n",
    "\n",
    "Next up: Enter the Functional API, your slightly more complex, highly flexible friend.  "
   ]
  },
  {
   "cell_type": "markdown",
   "metadata": {},
   "source": [
    "<a name='4'></a>\n",
    "## 4 - The Functional API"
   ]
  },
  {
   "cell_type": "markdown",
   "metadata": {},
   "source": [
    "Welcome to the second half of the assignment, where you'll use Keras' flexible [Functional API](https://www.tensorflow.org/guide/keras/functional) to build a ConvNet that can differentiate between 6 sign language digits. \n",
    "\n",
    "The Functional API can handle models with non-linear topology, shared layers, as well as layers with multiple inputs or outputs. Imagine that, where the Sequential API requires the model to move in a linear fashion through its layers, the Functional API allows much more flexibility. Where Sequential is a straight line, a Functional model is a graph, where the nodes of the layers can connect in many more ways than one. \n",
    "\n",
    "In the visual example below, the one possible direction of the movement Sequential model is shown in contrast to a skip connection, which is just one of the many ways a Functional model can be constructed. A skip connection, as you might have guessed, skips some layer in the network and feeds the output to a later layer in the network. Don't worry, you'll be spending more time with skip connections very soon! "
   ]
  },
  {
   "cell_type": "markdown",
   "metadata": {},
   "source": [
    "<img src=\"images/seq_vs_func.png\" style=\"width:350px;height:200px;\">"
   ]
  },
  {
   "cell_type": "markdown",
   "metadata": {},
   "source": [
    "<a name='4-1'></a>\n",
    "### 4.1 - Load the SIGNS Dataset\n",
    "\n",
    "As a reminder, the SIGNS dataset is a collection of 6 signs representing numbers from 0 to 5."
   ]
  },
  {
   "cell_type": "code",
   "execution_count": 50,
   "metadata": {},
   "outputs": [],
   "source": [
    "# Loading the data (signs)\n",
    "X_train_orig, Y_train_orig, X_test_orig, Y_test_orig, classes = load_signs_dataset()"
   ]
  },
  {
   "cell_type": "markdown",
   "metadata": {},
   "source": [
    "<img src=\"images/SIGNS.png\" style=\"width:800px;height:300px;\">\n",
    "\n",
    "The next cell will show you an example of a labelled image in the dataset. Feel free to change the value of `index` below and re-run to see different examples. "
   ]
  },
  {
   "cell_type": "code",
   "execution_count": 53,
   "metadata": {},
   "outputs": [
    {
     "name": "stdout",
     "output_type": "stream",
     "text": [
      "y = 4\n"
     ]
    },
    {
     "data": {
      "image/png": "[encoded data removed]",
      "text/plain": [
       "<Figure size 640x480 with 1 Axes>"
      ]
     },
     "metadata": {},
     "output_type": "display_data"
    }
   ],
   "source": [
    "# Example of an image from the dataset\n",
    "index = 9\n",
    "plt.imshow(X_train_orig[index])\n",
    "print (\"y = \" + str(np.squeeze(Y_train_orig[:, index])))"
   ]
  },
  {
   "cell_type": "markdown",
   "metadata": {},
   "source": [
    "<a name='4-2'></a>\n",
    "### 4.2 - Split the Data into Train/Test Sets\n",
    "\n",
    "In Course 2, you built a fully-connected network for this dataset. But since this is an image dataset, it is more natural to apply a ConvNet to it.\n",
    "\n",
    "To get started, let's examine the shapes of your data. "
   ]
  },
  {
   "cell_type": "code",
   "execution_count": 56,
   "metadata": {},
   "outputs": [
    {
     "name": "stdout",
     "output_type": "stream",
     "text": [
      "number of training examples = 1080\n",
      "number of test examples = 120\n",
      "X_train shape: (1080, 64, 64, 3)\n",
      "Y_train shape: (1080, 6)\n",
      "X_test shape: (120, 64, 64, 3)\n",
      "Y_test shape: (120, 6)\n"
     ]
    }
   ],
   "source": [
    "X_train = X_train_orig/255.\n",
    "X_test = X_test_orig/255.\n",
    "Y_train = convert_to_one_hot(Y_train_orig, 6).T\n",
    "Y_test = convert_to_one_hot(Y_test_orig, 6).T\n",
    "print (\"number of training examples = \" + str(X_train.shape[0]))\n",
    "print (\"number of test examples = \" + str(X_test.shape[0]))\n",
    "print (\"X_train shape: \" + str(X_train.shape))\n",
    "print (\"Y_train shape: \" + str(Y_train.shape))\n",
    "print (\"X_test shape: \" + str(X_test.shape))\n",
    "print (\"Y_test shape: \" + str(Y_test.shape))"
   ]
  },
  {
   "cell_type": "markdown",
   "metadata": {},
   "source": [
    "<a name='4-3'></a>\n",
    "### 4.3 - Forward Propagation\n",
    "\n",
    "In TensorFlow, there are built-in functions that implement the convolution steps for you. By now, you should be familiar with how TensorFlow builds computational graphs. In the [Functional API](https://www.tensorflow.org/guide/keras/functional), you create a graph of layers. This is what allows such great flexibility.\n",
    "\n",
    "However, the following model could also be defined using the Sequential API since the information flow is on a single line. But don't deviate. What we want you to learn is to use the functional API.\n",
    "\n",
    "Begin building your graph of layers by creating an input node that functions as a callable object:\n",
    "\n",
    "- **input_img = tf.keras.Input(shape=input_shape):** \n",
    "\n",
    "Then, create a new node in the graph of layers by calling a layer on the `input_img` object: \n",
    "\n",
    "- **tf.keras.layers.Conv2D(filters= ... , kernel_size= ... , padding='same')(input_img):** Read the full documentation on [Conv2D](https://www.tensorflow.org/api_docs/python/tf/keras/layers/Conv2D).\n",
    "\n",
    "- **tf.keras.layers.MaxPool2D(pool_size=(f, f), strides=(s, s), padding='same'):** `MaxPool2D()` downsamples your input using a window of size (f, f) and strides of size (s, s) to carry out max pooling over each window.  For max pooling, you usually operate on a single example at a time and a single channel at a time. Read the full documentation on [MaxPool2D](https://www.tensorflow.org/api_docs/python/tf/keras/layers/MaxPool2D).\n",
    "\n",
    "- **tf.keras.layers.ReLU():** computes the elementwise ReLU of Z (which can be any shape). You can read the full documentation on [ReLU](https://www.tensorflow.org/api_docs/python/tf/keras/layers/ReLU).\n",
    "\n",
    "- **tf.keras.layers.Flatten()**: given a tensor \"P\", this function takes each training (or test) example in the batch and flattens it into a 1D vector.  \n",
    "\n",
    "    * If a tensor P has the shape (batch_size,h,w,c), it returns a flattened tensor with shape (batch_size, k), where $k=h \\times w \\times c$.  \"k\" equals the product of all the dimension sizes other than the first dimension.\n",
    "    \n",
    "    * For example, given a tensor with dimensions [100, 2, 3, 4], it flattens the tensor to be of shape [100, 24], where 24 = 2 * 3 * 4.  You can read the full documentation on [Flatten](https://www.tensorflow.org/api_docs/python/tf/keras/layers/Flatten).\n",
    "\n",
    "- **tf.keras.layers.Dense(units= ... , activation='softmax')(F):** given the flattened input F, it returns the output computed using a fully connected layer. You can read the full documentation on [Dense](https://www.tensorflow.org/api_docs/python/tf/keras/layers/Dense).\n",
    "\n",
    "In the last function above (`tf.keras.layers.Dense()`), the fully connected layer automatically initializes weights in the graph and keeps on training them as you train the model. Hence, you did not need to initialize those weights when initializing the parameters.\n",
    "\n",
    "Lastly, before creating the model, you'll need to define the output using the last of the function's compositions (in this example, a Dense layer): \n",
    "\n",
    "- **outputs = tf.keras.layers.Dense(units=6, activation='softmax')(F)**\n",
    "\n",
    "\n",
    "#### Window, kernel, filter, pool\n",
    "\n",
    "The words \"kernel\" and \"filter\" are used to refer to the same thing. The word \"filter\" accounts for the amount of \"kernels\" that will be used in a single convolution layer. \"Pool\" is the name of the operation that takes the max or average value of the kernels. \n",
    "\n",
    "This is why the parameter `pool_size` refers to `kernel_size`, and you use `(f,f)` to refer to the filter size. \n",
    "\n",
    "Pool size and kernel size refer to the same thing in different objects - They refer to the shape of the window where the operation takes place. "
   ]
  },
  {
   "cell_type": "markdown",
   "metadata": {},
   "source": [
    "<a name='ex-2'></a>\n",
    "### Exercise 2 - convolutional_model\n",
    "\n",
    "Implement the `convolutional_model` function below to build the following model: `CONV2D -> RELU -> MAXPOOL -> CONV2D -> RELU -> MAXPOOL -> FLATTEN -> DENSE`. Use the functions above! \n",
    "\n",
    "Also, plug in the following parameters for all the steps:\n",
    "\n",
    " - [Conv2D](https://www.tensorflow.org/api_docs/python/tf/keras/layers/Conv2D): Use 8 4 by 4 filters, stride 1, padding is \"SAME\"\n",
    " - [ReLU](https://www.tensorflow.org/api_docs/python/tf/keras/layers/ReLU)\n",
    " - [MaxPool2D](https://www.tensorflow.org/api_docs/python/tf/keras/layers/MaxPool2D): Use an 8 by 8 filter size and an 8 by 8 stride, padding is \"SAME\"\n",
    " - **Conv2D**: Use 16 2 by 2 filters, stride 1, padding is \"SAME\"\n",
    " - **ReLU**\n",
    " - **MaxPool2D**: Use a 4 by 4 filter size and a 4 by 4 stride, padding is \"SAME\"\n",
    " - [Flatten](https://www.tensorflow.org/api_docs/python/tf/keras/layers/Flatten) the previous output.\n",
    " - Fully-connected ([Dense](https://www.tensorflow.org/api_docs/python/tf/keras/layers/Dense)) layer: Apply a fully connected layer with 6 neurons and a softmax activation. "
   ]
  },
  {
   "cell_type": "code",
   "execution_count": 59,
   "metadata": {
    "deletable": false,
    "nbgrader": {
     "cell_type": "code",
     "checksum": "f58643806aa8380c96225fc8b4c5e7aa",
     "grade": false,
     "grade_id": "cell-dac51744a9e03f51",
     "locked": false,
     "schema_version": 3,
     "solution": true,
     "task": false
    }
   },
   "outputs": [],
   "source": [
    "# GRADED FUNCTION: convolutional_model\n",
    "\n",
    "def convolutional_model(input_shape):\n",
    "    \"\"\"\n",
    "    Implements the forward propagation for the model:\n",
    "    CONV2D -> RELU -> MAXPOOL -> CONV2D -> RELU -> MAXPOOL -> FLATTEN -> DENSE\n",
    "    \n",
    "    Note that for simplicity and grading purposes, you'll hard-code some values\n",
    "    such as the stride and kernel (filter) sizes. \n",
    "    Normally, functions should take these values as function parameters.\n",
    "    \n",
    "    Arguments:\n",
    "    input_img -- input dataset, of shape (input_shape)\n",
    "\n",
    "    Returns:\n",
    "    model -- TF Keras model (object containing the information for the entire training process) \n",
    "    \"\"\"\n",
    "\n",
    "    input_img = tf.keras.Input(shape=input_shape)\n",
    "    ## CONV2D: 8 filters 4x4, stride of 1, padding 'SAME'\n",
    "    # Z1 = None\n",
    "    ## RELU\n",
    "    # A1 = None\n",
    "    ## MAXPOOL: window 8x8, stride 8, padding 'SAME'\n",
    "    # P1 = None\n",
    "    ## CONV2D: 16 filters 2x2, stride 1, padding 'SAME'\n",
    "    # Z2 = None\n",
    "    ## RELU\n",
    "    # A2 = None\n",
    "    ## MAXPOOL: window 4x4, stride 4, padding 'SAME'\n",
    "    # P2 = None\n",
    "    ## FLATTEN\n",
    "    # F = None\n",
    "    ## Dense layer\n",
    "    ## 6 neurons in output layer. Hint: one of the arguments should be \"activation='softmax'\" \n",
    "    # outputs = None\n",
    "    \n",
    "    # YOUR CODE STARTS HERE\n",
    "    Z1 = tf.keras.layers.Conv2D(filters=8, kernel_size=(4, 4), strides=(1, 1), padding='SAME')(input_img)\n",
    "    A1 = tf.keras.layers.ReLU()(Z1)\n",
    "    P1 = tf.keras.layers.MaxPooling2D(pool_size=(8, 8), strides=(8, 8), padding='SAME')(A1)\n",
    "    Z2 = tf.keras.layers.Conv2D(filters=16, kernel_size=(2, 2), strides=(1, 1), padding='SAME')(P1)\n",
    "    A2 = tf.keras.layers.ReLU()(Z2)\n",
    "    P2 = tf.keras.layers.MaxPooling2D(pool_size=(4, 4), strides=(4, 4), padding='SAME')(A2)\n",
    "    F = tf.keras.layers.Flatten()(P2)\n",
    "    outputs = tf.keras.layers.Dense(units=6, activation='softmax')(F)\n",
    "    # YOUR CODE ENDS HERE\n",
    "    \n",
    "    model = tf.keras.Model(inputs=input_img, outputs=outputs)\n",
    "    return model"
   ]
  },
  {
   "cell_type": "code",
   "execution_count": 61,
   "metadata": {
    "deletable": false,
    "editable": false,
    "nbgrader": {
     "cell_type": "code",
     "checksum": "483d626949930a0b0ef20997e7c6ba72",
     "grade": true,
     "grade_id": "cell-45d22e92042174c9",
     "locked": true,
     "points": 10,
     "schema_version": 3,
     "solution": false,
     "task": false
    }
   },
   "outputs": [
    {
     "name": "stdout",
     "output_type": "stream",
     "text": [
      "Model: \"model\"\n",
      "_________________________________________________________________\n",
      "Layer (type)                 Output Shape              Param #   \n",
      "=================================================================\n",
      "input_1 (InputLayer)         [(None, 64, 64, 3)]       0         \n",
      "_________________________________________________________________\n",
      "conv2d_3 (Conv2D)            (None, 64, 64, 8)         392       \n",
      "_________________________________________________________________\n",
      "re_lu_1 (ReLU)               (None, 64, 64, 8)         0         \n",
      "_________________________________________________________________\n",
      "max_pooling2d_1 (MaxPooling2 (None, 8, 8, 8)           0         \n",
      "_________________________________________________________________\n",
      "conv2d_4 (Conv2D)            (None, 8, 8, 16)          528       \n",
      "_________________________________________________________________\n",
      "re_lu_2 (ReLU)               (None, 8, 8, 16)          0         \n",
      "_________________________________________________________________\n",
      "max_pooling2d_2 (MaxPooling2 (None, 2, 2, 16)          0         \n",
      "_________________________________________________________________\n",
      "flatten_1 (Flatten)          (None, 64)                0         \n",
      "_________________________________________________________________\n",
      "dense_1 (Dense)              (None, 6)                 390       \n",
      "=================================================================\n",
      "Total params: 1,310\n",
      "Trainable params: 1,310\n",
      "Non-trainable params: 0\n",
      "_________________________________________________________________\n",
      "All tests passed!\n"
     ]
    }
   ],
   "source": [
    "conv_model = convolutional_model((64, 64, 3))\n",
    "conv_model.compile(optimizer='adam',\n",
    "                  loss='categorical_crossentropy',\n",
    "                  metrics=['accuracy'])\n",
    "conv_model.summary()\n",
    "    \n",
    "output = [['InputLayer', [(None, 64, 64, 3)], 0],\n",
    "        ['Conv2D', (None, 64, 64, 8), 392, 'same', 'linear', 'GlorotUniform'],\n",
    "        ['ReLU', (None, 64, 64, 8), 0],\n",
    "        ['MaxPooling2D', (None, 8, 8, 8), 0, (8, 8), (8, 8), 'same'],\n",
    "        ['Conv2D', (None, 8, 8, 16), 528, 'same', 'linear', 'GlorotUniform'],\n",
    "        ['ReLU', (None, 8, 8, 16), 0],\n",
    "        ['MaxPooling2D', (None, 2, 2, 16), 0, (4, 4), (4, 4), 'same'],\n",
    "        ['Flatten', (None, 64), 0],\n",
    "        ['Dense', (None, 6), 390, 'softmax']]\n",
    "    \n",
    "comparator(summary(conv_model), output)"
   ]
  },
  {
   "cell_type": "markdown",
   "metadata": {},
   "source": [
    "Both the Sequential and Functional APIs return a TF Keras model object. The only difference is how inputs are handled inside the object model! "
   ]
  },
  {
   "cell_type": "markdown",
   "metadata": {},
   "source": [
    "<a name='4-4'></a>\n",
    "### 4.4 - Train the Model"
   ]
  },
  {
   "cell_type": "code",
   "execution_count": 65,
   "metadata": {},
   "outputs": [
    {
     "name": "stdout",
     "output_type": "stream",
     "text": [
      "WARNING:tensorflow:Expected a shuffled dataset but input dataset `x` is not shuffled. Please invoke `shuffle()` on input dataset.\n",
      "Epoch 1/100\n",
      "17/17 [==============================] - 1s 59ms/step - loss: 1.7961 - acc: 0.1648 - val_loss: 1.7847 - val_acc: 0.1583\n",
      "Epoch 2/100\n",
      "17/17 [==============================] - 0s 26ms/step - loss: 1.7877 - acc: 0.1833 - val_loss: 1.7793 - val_acc: 0.2833\n",
      "Epoch 3/100\n",
      "17/17 [==============================] - 0s 25ms/step - loss: 1.7818 - acc: 0.2250 - val_loss: 1.7735 - val_acc: 0.2667\n",
      "Epoch 4/100\n",
      "17/17 [==============================] - 0s 26ms/step - loss: 1.7772 - acc: 0.2509 - val_loss: 1.7687 - val_acc: 0.3083\n",
      "Epoch 5/100\n",
      "17/17 [==============================] - 0s 26ms/step - loss: 1.7726 - acc: 0.2852 - val_loss: 1.7626 - val_acc: 0.3583\n",
      "Epoch 6/100\n",
      "17/17 [==============================] - 0s 26ms/step - loss: 1.7663 - acc: 0.3167 - val_loss: 1.7555 - val_acc: 0.3667\n",
      "Epoch 7/100\n",
      "17/17 [==============================] - 0s 26ms/step - loss: 1.7584 - acc: 0.3630 - val_loss: 1.7462 - val_acc: 0.3833\n",
      "Epoch 8/100\n",
      "17/17 [==============================] - 0s 25ms/step - loss: 1.7481 - acc: 0.3769 - val_loss: 1.7336 - val_acc: 0.4583\n",
      "Epoch 9/100\n",
      "17/17 [==============================] - 0s 25ms/step - loss: 1.7327 - acc: 0.4222 - val_loss: 1.7166 - val_acc: 0.4583\n",
      "Epoch 10/100\n",
      "17/17 [==============================] - 0s 25ms/step - loss: 1.7153 - acc: 0.4324 - val_loss: 1.6947 - val_acc: 0.5583\n",
      "Epoch 11/100\n",
      "17/17 [==============================] - 0s 26ms/step - loss: 1.6923 - acc: 0.4546 - val_loss: 1.6691 - val_acc: 0.5417\n",
      "Epoch 12/100\n",
      "17/17 [==============================] - 0s 25ms/step - loss: 1.6636 - acc: 0.4639 - val_loss: 1.6387 - val_acc: 0.5583\n",
      "Epoch 13/100\n",
      "17/17 [==============================] - 0s 25ms/step - loss: 1.6287 - acc: 0.4944 - val_loss: 1.6038 - val_acc: 0.5083\n",
      "Epoch 14/100\n",
      "17/17 [==============================] - 0s 28ms/step - loss: 1.5872 - acc: 0.5148 - val_loss: 1.5640 - val_acc: 0.5167\n",
      "Epoch 15/100\n",
      "17/17 [==============================] - 0s 25ms/step - loss: 1.5418 - acc: 0.5306 - val_loss: 1.5225 - val_acc: 0.5250\n",
      "Epoch 16/100\n",
      "17/17 [==============================] - 0s 27ms/step - loss: 1.4922 - acc: 0.5481 - val_loss: 1.4762 - val_acc: 0.4917\n",
      "Epoch 17/100\n",
      "17/17 [==============================] - 0s 28ms/step - loss: 1.4430 - acc: 0.5546 - val_loss: 1.4320 - val_acc: 0.5333\n",
      "Epoch 18/100\n",
      "17/17 [==============================] - 0s 26ms/step - loss: 1.3928 - acc: 0.5667 - val_loss: 1.3842 - val_acc: 0.5417\n",
      "Epoch 19/100\n",
      "17/17 [==============================] - 1s 30ms/step - loss: 1.3457 - acc: 0.5722 - val_loss: 1.3406 - val_acc: 0.5500\n",
      "Epoch 20/100\n",
      "17/17 [==============================] - 0s 27ms/step - loss: 1.3007 - acc: 0.5898 - val_loss: 1.2955 - val_acc: 0.5750\n",
      "Epoch 21/100\n",
      "17/17 [==============================] - 0s 28ms/step - loss: 1.2602 - acc: 0.5926 - val_loss: 1.2511 - val_acc: 0.5917\n",
      "Epoch 22/100\n",
      "17/17 [==============================] - 0s 27ms/step - loss: 1.2204 - acc: 0.6056 - val_loss: 1.2131 - val_acc: 0.6083\n",
      "Epoch 23/100\n",
      "17/17 [==============================] - 0s 27ms/step - loss: 1.1833 - acc: 0.6213 - val_loss: 1.1732 - val_acc: 0.6417\n",
      "Epoch 24/100\n",
      "17/17 [==============================] - 0s 28ms/step - loss: 1.1495 - acc: 0.6269 - val_loss: 1.1405 - val_acc: 0.6750\n",
      "Epoch 25/100\n",
      "17/17 [==============================] - 0s 29ms/step - loss: 1.1193 - acc: 0.6389 - val_loss: 1.1045 - val_acc: 0.6917\n",
      "Epoch 26/100\n",
      "17/17 [==============================] - 0s 27ms/step - loss: 1.0888 - acc: 0.6472 - val_loss: 1.0774 - val_acc: 0.6917\n",
      "Epoch 27/100\n",
      "17/17 [==============================] - 0s 26ms/step - loss: 1.0627 - acc: 0.6583 - val_loss: 1.0483 - val_acc: 0.7083\n",
      "Epoch 28/100\n",
      "17/17 [==============================] - 0s 28ms/step - loss: 1.0364 - acc: 0.6676 - val_loss: 1.0222 - val_acc: 0.7167\n",
      "Epoch 29/100\n",
      "17/17 [==============================] - 0s 28ms/step - loss: 1.0132 - acc: 0.6731 - val_loss: 0.9970 - val_acc: 0.7167\n",
      "Epoch 30/100\n",
      "17/17 [==============================] - 0s 28ms/step - loss: 0.9906 - acc: 0.6824 - val_loss: 0.9754 - val_acc: 0.7167\n",
      "Epoch 31/100\n",
      "17/17 [==============================] - 0s 28ms/step - loss: 0.9694 - acc: 0.6907 - val_loss: 0.9535 - val_acc: 0.7167\n",
      "Epoch 32/100\n",
      "17/17 [==============================] - 0s 27ms/step - loss: 0.9489 - acc: 0.7037 - val_loss: 0.9348 - val_acc: 0.7250\n",
      "Epoch 33/100\n",
      "17/17 [==============================] - 0s 25ms/step - loss: 0.9299 - acc: 0.7111 - val_loss: 0.9168 - val_acc: 0.7250\n",
      "Epoch 34/100\n",
      "17/17 [==============================] - 0s 26ms/step - loss: 0.9117 - acc: 0.7120 - val_loss: 0.9008 - val_acc: 0.7167\n",
      "Epoch 35/100\n",
      "17/17 [==============================] - 0s 28ms/step - loss: 0.8950 - acc: 0.7130 - val_loss: 0.8850 - val_acc: 0.7250\n",
      "Epoch 36/100\n",
      "17/17 [==============================] - 0s 27ms/step - loss: 0.8785 - acc: 0.7222 - val_loss: 0.8709 - val_acc: 0.7333\n",
      "Epoch 37/100\n",
      "17/17 [==============================] - 0s 26ms/step - loss: 0.8636 - acc: 0.7231 - val_loss: 0.8571 - val_acc: 0.7417\n",
      "Epoch 38/100\n",
      "17/17 [==============================] - 0s 25ms/step - loss: 0.8482 - acc: 0.7231 - val_loss: 0.8443 - val_acc: 0.7500\n",
      "Epoch 39/100\n",
      "17/17 [==============================] - 0s 26ms/step - loss: 0.8342 - acc: 0.7287 - val_loss: 0.8318 - val_acc: 0.7417\n",
      "Epoch 40/100\n",
      "17/17 [==============================] - 0s 29ms/step - loss: 0.8202 - acc: 0.7333 - val_loss: 0.8205 - val_acc: 0.7500\n",
      "Epoch 41/100\n",
      "17/17 [==============================] - 0s 28ms/step - loss: 0.8068 - acc: 0.7389 - val_loss: 0.8094 - val_acc: 0.7583\n",
      "Epoch 42/100\n",
      "17/17 [==============================] - 0s 28ms/step - loss: 0.7935 - acc: 0.7370 - val_loss: 0.7993 - val_acc: 0.7583\n",
      "Epoch 43/100\n",
      "17/17 [==============================] - 0s 28ms/step - loss: 0.7805 - acc: 0.7444 - val_loss: 0.7891 - val_acc: 0.7583\n",
      "Epoch 44/100\n",
      "17/17 [==============================] - 1s 30ms/step - loss: 0.7682 - acc: 0.7519 - val_loss: 0.7791 - val_acc: 0.7583\n",
      "Epoch 45/100\n",
      "17/17 [==============================] - 0s 29ms/step - loss: 0.7561 - acc: 0.7546 - val_loss: 0.7692 - val_acc: 0.7500\n",
      "Epoch 46/100\n",
      "17/17 [==============================] - 0s 28ms/step - loss: 0.7443 - acc: 0.7583 - val_loss: 0.7597 - val_acc: 0.7500\n",
      "Epoch 47/100\n",
      "17/17 [==============================] - 0s 29ms/step - loss: 0.7326 - acc: 0.7676 - val_loss: 0.7507 - val_acc: 0.7417\n",
      "Epoch 48/100\n",
      "17/17 [==============================] - 1s 30ms/step - loss: 0.7215 - acc: 0.7667 - val_loss: 0.7429 - val_acc: 0.7417\n",
      "Epoch 49/100\n",
      "17/17 [==============================] - 0s 28ms/step - loss: 0.7112 - acc: 0.7741 - val_loss: 0.7355 - val_acc: 0.7417\n",
      "Epoch 50/100\n",
      "17/17 [==============================] - 0s 28ms/step - loss: 0.7004 - acc: 0.7741 - val_loss: 0.7280 - val_acc: 0.7333\n",
      "Epoch 51/100\n",
      "17/17 [==============================] - 0s 28ms/step - loss: 0.6905 - acc: 0.7769 - val_loss: 0.7210 - val_acc: 0.7417\n",
      "Epoch 52/100\n",
      "17/17 [==============================] - 0s 27ms/step - loss: 0.6813 - acc: 0.7833 - val_loss: 0.7137 - val_acc: 0.7583\n",
      "Epoch 53/100\n",
      "17/17 [==============================] - 0s 29ms/step - loss: 0.6719 - acc: 0.7880 - val_loss: 0.7065 - val_acc: 0.7583\n",
      "Epoch 54/100\n",
      "17/17 [==============================] - 1s 30ms/step - loss: 0.6627 - acc: 0.7889 - val_loss: 0.6995 - val_acc: 0.7583\n",
      "Epoch 55/100\n",
      "17/17 [==============================] - 0s 27ms/step - loss: 0.6542 - acc: 0.7907 - val_loss: 0.6933 - val_acc: 0.7667\n",
      "Epoch 56/100\n",
      "17/17 [==============================] - 0s 28ms/step - loss: 0.6458 - acc: 0.7963 - val_loss: 0.6871 - val_acc: 0.7667\n",
      "Epoch 57/100\n",
      "17/17 [==============================] - 0s 29ms/step - loss: 0.6374 - acc: 0.8019 - val_loss: 0.6815 - val_acc: 0.7667\n",
      "Epoch 58/100\n",
      "17/17 [==============================] - 1s 31ms/step - loss: 0.6291 - acc: 0.8028 - val_loss: 0.6753 - val_acc: 0.7667\n",
      "Epoch 59/100\n",
      "17/17 [==============================] - 1s 46ms/step - loss: 0.6209 - acc: 0.8037 - val_loss: 0.6700 - val_acc: 0.7667\n",
      "Epoch 60/100\n",
      "17/17 [==============================] - 1s 50ms/step - loss: 0.6131 - acc: 0.8056 - val_loss: 0.6648 - val_acc: 0.7667\n",
      "Epoch 61/100\n",
      "17/17 [==============================] - 1s 42ms/step - loss: 0.6056 - acc: 0.8102 - val_loss: 0.6597 - val_acc: 0.7667\n",
      "Epoch 62/100\n",
      "17/17 [==============================] - 1s 43ms/step - loss: 0.5982 - acc: 0.8120 - val_loss: 0.6546 - val_acc: 0.7667\n",
      "Epoch 63/100\n",
      "17/17 [==============================] - 1s 33ms/step - loss: 0.5906 - acc: 0.8194 - val_loss: 0.6497 - val_acc: 0.7750\n",
      "Epoch 64/100\n",
      "17/17 [==============================] - 1s 30ms/step - loss: 0.5838 - acc: 0.8250 - val_loss: 0.6453 - val_acc: 0.7750\n",
      "Epoch 65/100\n",
      "17/17 [==============================] - 1s 30ms/step - loss: 0.5770 - acc: 0.8278 - val_loss: 0.6407 - val_acc: 0.7750\n",
      "Epoch 66/100\n",
      "17/17 [==============================] - 1s 33ms/step - loss: 0.5697 - acc: 0.8296 - val_loss: 0.6358 - val_acc: 0.7833\n",
      "Epoch 67/100\n",
      "17/17 [==============================] - 1s 31ms/step - loss: 0.5626 - acc: 0.8315 - val_loss: 0.6310 - val_acc: 0.7833\n",
      "Epoch 68/100\n",
      "17/17 [==============================] - 0s 28ms/step - loss: 0.5557 - acc: 0.8343 - val_loss: 0.6263 - val_acc: 0.7917\n",
      "Epoch 69/100\n",
      "17/17 [==============================] - 0s 28ms/step - loss: 0.5486 - acc: 0.8352 - val_loss: 0.6218 - val_acc: 0.7917\n",
      "Epoch 70/100\n",
      "17/17 [==============================] - 0s 28ms/step - loss: 0.5416 - acc: 0.8407 - val_loss: 0.6168 - val_acc: 0.7833\n",
      "Epoch 71/100\n",
      "17/17 [==============================] - 0s 27ms/step - loss: 0.5346 - acc: 0.8454 - val_loss: 0.6103 - val_acc: 0.7833\n",
      "Epoch 72/100\n",
      "17/17 [==============================] - 0s 27ms/step - loss: 0.5278 - acc: 0.8500 - val_loss: 0.6044 - val_acc: 0.8000\n",
      "Epoch 73/100\n",
      "17/17 [==============================] - 0s 26ms/step - loss: 0.5212 - acc: 0.8528 - val_loss: 0.5992 - val_acc: 0.8000\n",
      "Epoch 74/100\n",
      "17/17 [==============================] - 0s 25ms/step - loss: 0.5151 - acc: 0.8519 - val_loss: 0.5944 - val_acc: 0.8000\n",
      "Epoch 75/100\n",
      "17/17 [==============================] - 0s 26ms/step - loss: 0.5090 - acc: 0.8556 - val_loss: 0.5897 - val_acc: 0.8000\n",
      "Epoch 76/100\n",
      "17/17 [==============================] - 0s 26ms/step - loss: 0.5031 - acc: 0.8574 - val_loss: 0.5846 - val_acc: 0.8000\n",
      "Epoch 77/100\n",
      "17/17 [==============================] - 1s 30ms/step - loss: 0.4975 - acc: 0.8630 - val_loss: 0.5800 - val_acc: 0.8000\n",
      "Epoch 78/100\n",
      "17/17 [==============================] - 1s 30ms/step - loss: 0.4920 - acc: 0.8630 - val_loss: 0.5751 - val_acc: 0.8000\n",
      "Epoch 79/100\n",
      "17/17 [==============================] - 0s 27ms/step - loss: 0.4866 - acc: 0.8639 - val_loss: 0.5710 - val_acc: 0.8000\n",
      "Epoch 80/100\n",
      "17/17 [==============================] - 0s 27ms/step - loss: 0.4810 - acc: 0.8639 - val_loss: 0.5667 - val_acc: 0.8000\n",
      "Epoch 81/100\n",
      "17/17 [==============================] - 0s 26ms/step - loss: 0.4757 - acc: 0.8639 - val_loss: 0.5621 - val_acc: 0.7917\n",
      "Epoch 82/100\n",
      "17/17 [==============================] - 0s 27ms/step - loss: 0.4706 - acc: 0.8630 - val_loss: 0.5585 - val_acc: 0.7833\n",
      "Epoch 83/100\n",
      "17/17 [==============================] - 0s 27ms/step - loss: 0.4654 - acc: 0.8648 - val_loss: 0.5535 - val_acc: 0.7833\n",
      "Epoch 84/100\n",
      "17/17 [==============================] - 0s 28ms/step - loss: 0.4602 - acc: 0.8667 - val_loss: 0.5496 - val_acc: 0.7917\n",
      "Epoch 85/100\n",
      "17/17 [==============================] - 0s 27ms/step - loss: 0.4552 - acc: 0.8667 - val_loss: 0.5452 - val_acc: 0.7917\n",
      "Epoch 86/100\n",
      "17/17 [==============================] - 0s 28ms/step - loss: 0.4503 - acc: 0.8676 - val_loss: 0.5412 - val_acc: 0.7917\n",
      "Epoch 87/100\n",
      "17/17 [==============================] - 0s 28ms/step - loss: 0.4458 - acc: 0.8704 - val_loss: 0.5375 - val_acc: 0.7917\n",
      "Epoch 88/100\n",
      "17/17 [==============================] - 0s 28ms/step - loss: 0.4412 - acc: 0.8713 - val_loss: 0.5341 - val_acc: 0.7917\n",
      "Epoch 89/100\n",
      "17/17 [==============================] - 0s 28ms/step - loss: 0.4367 - acc: 0.8741 - val_loss: 0.5305 - val_acc: 0.7917\n",
      "Epoch 90/100\n",
      "17/17 [==============================] - 0s 27ms/step - loss: 0.4322 - acc: 0.8750 - val_loss: 0.5265 - val_acc: 0.8000\n",
      "Epoch 91/100\n",
      "17/17 [==============================] - 1s 30ms/step - loss: 0.4280 - acc: 0.8759 - val_loss: 0.5226 - val_acc: 0.8000\n",
      "Epoch 92/100\n",
      "17/17 [==============================] - 1s 31ms/step - loss: 0.4238 - acc: 0.8759 - val_loss: 0.5193 - val_acc: 0.7917\n",
      "Epoch 93/100\n",
      "17/17 [==============================] - 0s 28ms/step - loss: 0.4195 - acc: 0.8759 - val_loss: 0.5161 - val_acc: 0.8000\n",
      "Epoch 94/100\n",
      "17/17 [==============================] - 0s 28ms/step - loss: 0.4155 - acc: 0.8787 - val_loss: 0.5127 - val_acc: 0.8000\n",
      "Epoch 95/100\n",
      "17/17 [==============================] - 0s 27ms/step - loss: 0.4115 - acc: 0.8796 - val_loss: 0.5097 - val_acc: 0.7917\n",
      "Epoch 96/100\n",
      "17/17 [==============================] - 0s 27ms/step - loss: 0.4075 - acc: 0.8806 - val_loss: 0.5057 - val_acc: 0.8000\n",
      "Epoch 97/100\n",
      "17/17 [==============================] - 0s 27ms/step - loss: 0.4034 - acc: 0.8796 - val_loss: 0.5021 - val_acc: 0.8000\n",
      "Epoch 98/100\n",
      "17/17 [==============================] - 0s 27ms/step - loss: 0.3993 - acc: 0.8824 - val_loss: 0.4991 - val_acc: 0.8000\n",
      "Epoch 99/100\n",
      "17/17 [==============================] - 0s 26ms/step - loss: 0.3955 - acc: 0.8861 - val_loss: 0.4966 - val_acc: 0.8000\n",
      "Epoch 100/100\n",
      "17/17 [==============================] - 0s 26ms/step - loss: 0.3918 - acc: 0.8880 - val_loss: 0.4930 - val_acc: 0.8000\n"
     ]
    }
   ],
   "source": [
    "train_dataset = tf.data.Dataset.from_tensor_slices((X_train, Y_train)).batch(64)\n",
    "test_dataset = tf.data.Dataset.from_tensor_slices((X_test, Y_test)).batch(64)\n",
    "history = conv_model.fit(train_dataset, epochs=100, validation_data=test_dataset)"
   ]
  },
  {
   "cell_type": "markdown",
   "metadata": {},
   "source": [
    "<a name='5'></a>\n",
    "## 5 - History Object \n",
    "\n",
    "The history object is an output of the `.fit()` operation, and provides a record of all the loss and metric values in memory. It's stored as a dictionary that you can retrieve at `history.history`: "
   ]
  },
  {
   "cell_type": "code",
   "execution_count": 67,
   "metadata": {},
   "outputs": [
    {
     "data": {
      "text/plain": [
       "{'loss': [1.7961327328401453,\n",
       "  1.7876863760106705,\n",
       "  1.7818297217873966,\n",
       "  1.777209576438455,\n",
       "  1.7726438886979048,\n",
       "  1.7662501335144043,\n",
       "  1.7584355368333704,\n",
       "  1.748148805954877,\n",
       "  1.7326562544878792,\n",
       "  1.715304641162648,\n",
       "  1.6923314613454483,\n",
       "  1.6635953117819393,\n",
       "  1.6286855094573076,\n",
       "  1.5871969741933487,\n",
       "  1.5417616227093864,\n",
       "  1.4922295528299667,\n",
       "  1.4429629339891321,\n",
       "  1.3928175112780403,\n",
       "  1.3457325135960299,\n",
       "  1.3006877478431254,\n",
       "  1.2602208782644833,\n",
       "  1.220379675135893,\n",
       "  1.1832742971532486,\n",
       "  1.149484494153191,\n",
       "  1.1192927851396448,\n",
       "  1.0888304675326628,\n",
       "  1.0627319847836214,\n",
       "  1.0363555129836588,\n",
       "  1.0131557057885563,\n",
       "  0.9905510860330918,\n",
       "  0.9693717290373409,\n",
       "  0.948890019865597,\n",
       "  0.9299204174210044,\n",
       "  0.9117170922896441,\n",
       "  0.8950126907404732,\n",
       "  0.8785080418867224,\n",
       "  0.8636235770057229,\n",
       "  0.8481940592036528,\n",
       "  0.8342161914881538,\n",
       "  0.8201778005151188,\n",
       "  0.8068137554561391,\n",
       "  0.7934880957883947,\n",
       "  0.7804525143959943,\n",
       "  0.7681507713654462,\n",
       "  0.7560673005440656,\n",
       "  0.7443091834292692,\n",
       "  0.7325529105523053,\n",
       "  0.7214759588241577,\n",
       "  0.711233962984646,\n",
       "  0.7004114073865554,\n",
       "  0.6905200551537907,\n",
       "  0.6813257932662964,\n",
       "  0.6719060995999504,\n",
       "  0.6626948889564065,\n",
       "  0.6541732970406028,\n",
       "  0.6458436110440422,\n",
       "  0.6373971034498775,\n",
       "  0.6291267486179576,\n",
       "  0.620930131743936,\n",
       "  0.6131400606211495,\n",
       "  0.6056297474047717,\n",
       "  0.5981666340547449,\n",
       "  0.5906029010520262,\n",
       "  0.5838258669656866,\n",
       "  0.5769659596330979,\n",
       "  0.5697063505649567,\n",
       "  0.5626333759111517,\n",
       "  0.5557096968678867,\n",
       "  0.5486071460387286,\n",
       "  0.5415522263330572,\n",
       "  0.5346179341568666,\n",
       "  0.5277910022174611,\n",
       "  0.5212315618991852,\n",
       "  0.5150553847060484,\n",
       "  0.5089785298880409,\n",
       "  0.5030503360664144,\n",
       "  0.4975384684169994,\n",
       "  0.49195506292230945,\n",
       "  0.48660621748251076,\n",
       "  0.48104285142000985,\n",
       "  0.4757350578027613,\n",
       "  0.4705929230241215,\n",
       "  0.46541831072639017,\n",
       "  0.4602205876041861,\n",
       "  0.4552052950157839,\n",
       "  0.4503073867629556,\n",
       "  0.4458005551029654,\n",
       "  0.4412461659487556,\n",
       "  0.4367092094000648,\n",
       "  0.43221398136195016,\n",
       "  0.42797171718934,\n",
       "  0.42377256821183595,\n",
       "  0.41951484715237336,\n",
       "  0.4154636614462909,\n",
       "  0.41153353277374716,\n",
       "  0.4074816686265609,\n",
       "  0.40342237493571115,\n",
       "  0.39932239230941324,\n",
       "  0.3955353673766641,\n",
       "  0.3917999548070571],\n",
       " 'acc': [0.16481481,\n",
       "  0.18333334,\n",
       "  0.225,\n",
       "  0.25092593,\n",
       "  0.2851852,\n",
       "  0.31666666,\n",
       "  0.36296296,\n",
       "  0.37685186,\n",
       "  0.42222223,\n",
       "  0.4324074,\n",
       "  0.45462963,\n",
       "  0.46388888,\n",
       "  0.49444443,\n",
       "  0.5148148,\n",
       "  0.53055555,\n",
       "  0.54814816,\n",
       "  0.5546296,\n",
       "  0.56666666,\n",
       "  0.57222223,\n",
       "  0.58981484,\n",
       "  0.5925926,\n",
       "  0.60555553,\n",
       "  0.6212963,\n",
       "  0.62685186,\n",
       "  0.6388889,\n",
       "  0.6472222,\n",
       "  0.65833336,\n",
       "  0.6675926,\n",
       "  0.67314816,\n",
       "  0.6824074,\n",
       "  0.69074076,\n",
       "  0.7037037,\n",
       "  0.7111111,\n",
       "  0.712037,\n",
       "  0.712963,\n",
       "  0.7222222,\n",
       "  0.72314817,\n",
       "  0.72314817,\n",
       "  0.7287037,\n",
       "  0.73333335,\n",
       "  0.73888886,\n",
       "  0.73703706,\n",
       "  0.74444443,\n",
       "  0.75185186,\n",
       "  0.7546296,\n",
       "  0.7583333,\n",
       "  0.7675926,\n",
       "  0.76666665,\n",
       "  0.7740741,\n",
       "  0.7740741,\n",
       "  0.77685183,\n",
       "  0.78333336,\n",
       "  0.787963,\n",
       "  0.7888889,\n",
       "  0.7907407,\n",
       "  0.7962963,\n",
       "  0.80185187,\n",
       "  0.80277777,\n",
       "  0.8037037,\n",
       "  0.8055556,\n",
       "  0.8101852,\n",
       "  0.81203705,\n",
       "  0.8194444,\n",
       "  0.825,\n",
       "  0.8277778,\n",
       "  0.8296296,\n",
       "  0.83148146,\n",
       "  0.8342593,\n",
       "  0.83518517,\n",
       "  0.84074074,\n",
       "  0.84537035,\n",
       "  0.85,\n",
       "  0.8527778,\n",
       "  0.8518519,\n",
       "  0.85555553,\n",
       "  0.8574074,\n",
       "  0.86296296,\n",
       "  0.86296296,\n",
       "  0.86388886,\n",
       "  0.86388886,\n",
       "  0.86388886,\n",
       "  0.86296296,\n",
       "  0.8648148,\n",
       "  0.8666667,\n",
       "  0.8666667,\n",
       "  0.8675926,\n",
       "  0.8703704,\n",
       "  0.8712963,\n",
       "  0.8740741,\n",
       "  0.875,\n",
       "  0.8759259,\n",
       "  0.8759259,\n",
       "  0.8759259,\n",
       "  0.8787037,\n",
       "  0.8796296,\n",
       "  0.88055557,\n",
       "  0.8796296,\n",
       "  0.8824074,\n",
       "  0.88611114,\n",
       "  0.88796294],\n",
       " 'val_loss': [1.784709870815277,\n",
       "  1.7792841792106628,\n",
       "  1.7735456824302673,\n",
       "  1.7687188982963562,\n",
       "  1.762594997882843,\n",
       "  1.7554599046707153,\n",
       "  1.7462183833122253,\n",
       "  1.7335801720619202,\n",
       "  1.7166290283203125,\n",
       "  1.6947040557861328,\n",
       "  1.6690738201141357,\n",
       "  1.638741672039032,\n",
       "  1.6037591099739075,\n",
       "  1.5640016794204712,\n",
       "  1.5225390791893005,\n",
       "  1.4761986136436462,\n",
       "  1.4319720268249512,\n",
       "  1.3841768503189087,\n",
       "  1.3406386971473694,\n",
       "  1.2955127954483032,\n",
       "  1.2511143684387207,\n",
       "  1.213136076927185,\n",
       "  1.1732264757156372,\n",
       "  1.1405309438705444,\n",
       "  1.1045089364051819,\n",
       "  1.077415108680725,\n",
       "  1.0482865571975708,\n",
       "  1.0221604704856873,\n",
       "  0.996953547000885,\n",
       "  0.9753574728965759,\n",
       "  0.9535439312458038,\n",
       "  0.934840202331543,\n",
       "  0.9167624413967133,\n",
       "  0.9008448421955109,\n",
       "  0.885004311800003,\n",
       "  0.8708857297897339,\n",
       "  0.8571091890335083,\n",
       "  0.8442972302436829,\n",
       "  0.8318402171134949,\n",
       "  0.8205394148826599,\n",
       "  0.8094032108783722,\n",
       "  0.7993389070034027,\n",
       "  0.7891440987586975,\n",
       "  0.7790912389755249,\n",
       "  0.769167959690094,\n",
       "  0.7597299516201019,\n",
       "  0.7507317066192627,\n",
       "  0.7428502142429352,\n",
       "  0.7355085015296936,\n",
       "  0.7280074954032898,\n",
       "  0.7210241556167603,\n",
       "  0.7137115001678467,\n",
       "  0.7064511477947235,\n",
       "  0.6995269060134888,\n",
       "  0.6933180093765259,\n",
       "  0.6871111989021301,\n",
       "  0.6815203130245209,\n",
       "  0.675250917673111,\n",
       "  0.6700036823749542,\n",
       "  0.6647526323795319,\n",
       "  0.6596803069114685,\n",
       "  0.6546091139316559,\n",
       "  0.6497355103492737,\n",
       "  0.6453032791614532,\n",
       "  0.6406585574150085,\n",
       "  0.6357900202274323,\n",
       "  0.6310240030288696,\n",
       "  0.6262801289558411,\n",
       "  0.6217914819717407,\n",
       "  0.6167765259742737,\n",
       "  0.6103376746177673,\n",
       "  0.604396253824234,\n",
       "  0.5991982817649841,\n",
       "  0.5943554043769836,\n",
       "  0.5896525681018829,\n",
       "  0.5845564901828766,\n",
       "  0.5799963772296906,\n",
       "  0.5751397609710693,\n",
       "  0.5710476338863373,\n",
       "  0.5666894316673279,\n",
       "  0.5621093511581421,\n",
       "  0.5584641993045807,\n",
       "  0.5535285174846649,\n",
       "  0.549599826335907,\n",
       "  0.545163094997406,\n",
       "  0.5412321388721466,\n",
       "  0.537538468837738,\n",
       "  0.5340959429740906,\n",
       "  0.5305468142032623,\n",
       "  0.5265175402164459,\n",
       "  0.5226246416568756,\n",
       "  0.519309937953949,\n",
       "  0.5161329507827759,\n",
       "  0.512683168053627,\n",
       "  0.5097426176071167,\n",
       "  0.5056796073913574,\n",
       "  0.5020906776189804,\n",
       "  0.49913984537124634,\n",
       "  0.49657920002937317,\n",
       "  0.49303820729255676],\n",
       " 'val_acc': [0.15833333,\n",
       "  0.28333333,\n",
       "  0.26666668,\n",
       "  0.30833334,\n",
       "  0.35833332,\n",
       "  0.36666667,\n",
       "  0.38333333,\n",
       "  0.45833334,\n",
       "  0.45833334,\n",
       "  0.55833334,\n",
       "  0.5416667,\n",
       "  0.55833334,\n",
       "  0.5083333,\n",
       "  0.51666665,\n",
       "  0.525,\n",
       "  0.49166667,\n",
       "  0.53333336,\n",
       "  0.5416667,\n",
       "  0.55,\n",
       "  0.575,\n",
       "  0.59166664,\n",
       "  0.60833335,\n",
       "  0.64166665,\n",
       "  0.675,\n",
       "  0.69166666,\n",
       "  0.69166666,\n",
       "  0.7083333,\n",
       "  0.71666664,\n",
       "  0.71666664,\n",
       "  0.71666664,\n",
       "  0.71666664,\n",
       "  0.725,\n",
       "  0.725,\n",
       "  0.71666664,\n",
       "  0.725,\n",
       "  0.73333335,\n",
       "  0.7416667,\n",
       "  0.75,\n",
       "  0.7416667,\n",
       "  0.75,\n",
       "  0.7583333,\n",
       "  0.7583333,\n",
       "  0.7583333,\n",
       "  0.7583333,\n",
       "  0.75,\n",
       "  0.75,\n",
       "  0.7416667,\n",
       "  0.7416667,\n",
       "  0.7416667,\n",
       "  0.73333335,\n",
       "  0.7416667,\n",
       "  0.7583333,\n",
       "  0.7583333,\n",
       "  0.7583333,\n",
       "  0.76666665,\n",
       "  0.76666665,\n",
       "  0.76666665,\n",
       "  0.76666665,\n",
       "  0.76666665,\n",
       "  0.76666665,\n",
       "  0.76666665,\n",
       "  0.76666665,\n",
       "  0.775,\n",
       "  0.775,\n",
       "  0.775,\n",
       "  0.78333336,\n",
       "  0.78333336,\n",
       "  0.7916667,\n",
       "  0.7916667,\n",
       "  0.78333336,\n",
       "  0.78333336,\n",
       "  0.8,\n",
       "  0.8,\n",
       "  0.8,\n",
       "  0.8,\n",
       "  0.8,\n",
       "  0.8,\n",
       "  0.8,\n",
       "  0.8,\n",
       "  0.8,\n",
       "  0.7916667,\n",
       "  0.78333336,\n",
       "  0.78333336,\n",
       "  0.7916667,\n",
       "  0.7916667,\n",
       "  0.7916667,\n",
       "  0.7916667,\n",
       "  0.7916667,\n",
       "  0.7916667,\n",
       "  0.8,\n",
       "  0.8,\n",
       "  0.7916667,\n",
       "  0.8,\n",
       "  0.8,\n",
       "  0.7916667,\n",
       "  0.8,\n",
       "  0.8,\n",
       "  0.8,\n",
       "  0.8,\n",
       "  0.8]}"
      ]
     },
     "execution_count": 67,
     "metadata": {},
     "output_type": "execute_result"
    }
   ],
   "source": [
    "history.history"
   ]
  },
  {
   "cell_type": "code",
   "execution_count": 68,
   "metadata": {},
   "outputs": [
    {
     "name": "stdout",
     "output_type": "stream",
     "text": [
      "dict_keys(['loss', 'acc', 'val_loss', 'val_acc'])\n",
      "loss: [1.7961327328401453, 1.7876863760106705, 1.7818297217873966, 1.777209576438455, 1.7726438886979048]\n",
      "acc: [0.16481481, 0.18333334, 0.225, 0.25092593, 0.2851852]\n",
      "val_loss: [1.784709870815277, 1.7792841792106628, 1.7735456824302673, 1.7687188982963562, 1.762594997882843]\n",
      "val_acc: [0.15833333, 0.28333333, 0.26666668, 0.30833334, 0.35833332]\n"
     ]
    }
   ],
   "source": [
    "# Assuming history is the output from model.fit()\n",
    "print(history.history.keys())\n",
    "\n",
    "# Print out the first few values for a quick check\n",
    "for key in history.history.keys():\n",
    "    print(f\"{key}: {history.history[key][:5]}\")\n"
   ]
  },
  {
   "cell_type": "markdown",
   "metadata": {},
   "source": [
    "Now visualize the loss over time using `history.history`: "
   ]
  },
  {
   "cell_type": "code",
   "execution_count": 70,
   "metadata": {},
   "outputs": [
    {
     "name": "stderr",
     "output_type": "stream",
     "text": [
      "C:\\Users\\Victus\\anaconda3\\envs\\machineLearningEnv\\lib\\site-packages\\pandas\\core\\frame.py:5047: SettingWithCopyWarning: \n",
      "A value is trying to be set on a copy of a slice from a DataFrame\n",
      "\n",
      "See the caveats in the documentation: https://pandas.pydata.org/pandas-docs/stable/user_guide/indexing.html#returning-a-view-versus-a-copy\n",
      "  errors=errors,\n"
     ]
    },
    {
     "data": {
      "text/plain": [
       "[Text(0.5, 0, 'Epoch'), Text(0, 0.5, 'Accuracy')]"
      ]
     },
     "execution_count": 70,
     "metadata": {},
     "output_type": "execute_result"
    },
    {
     "data": {
      "image/png": "[encoded data removed]",
      "text/plain": [
       "<Figure size 1200x800 with 1 Axes>"
      ]
     },
     "metadata": {},
     "output_type": "display_data"
    },
    {
     "data": {
      "image/png": "[encoded data removed]",
      "text/plain": [
       "<Figure size 1200x800 with 1 Axes>"
      ]
     },
     "metadata": {},
     "output_type": "display_data"
    }
   ],
   "source": [
    "# The history.history[\"loss\"] entry is a dictionary with as many values as epochs that the\n",
    "# model was trained on. \n",
    "df_loss_acc = pd.DataFrame(history.history)\n",
    "df_loss = df_loss_acc[['loss', 'val_loss']]\n",
    "df_loss.rename(columns={'loss': 'train', 'val_loss': 'validation'}, inplace=True)\n",
    "df_acc = df_loss_acc[['acc', 'val_acc']]\n",
    "df_acc.rename(columns={'acc': 'train', 'val_acc': 'validation'}, inplace=True)\n",
    "df_loss.plot(title='Model loss', figsize=(12, 8)).set(xlabel='Epoch', ylabel='Loss')\n",
    "df_acc.plot(title='Model Accuracy', figsize=(12, 8)).set(xlabel='Epoch', ylabel='Accuracy')"
   ]
  },
  {
   "cell_type": "markdown",
   "metadata": {},
   "source": [
    "**Congratulations**! You've finished the assignment and built two models: One that recognizes  smiles, and another that recognizes SIGN language with almost 80% accuracy on the test set. In addition to that, you now also understand the applications of two Keras APIs: Sequential and Functional. Nicely done! \n",
    "\n",
    "By now, you know a bit about how the Functional API works and may have glimpsed the possibilities. In your next assignment, you'll really get a feel for its power when you get the opportunity to build a very deep ConvNet, using ResNets! "
   ]
  },
  {
   "cell_type": "markdown",
   "metadata": {},
   "source": [
    "<a name='6'></a>\n",
    "## 6 - Bibliography\n",
    "\n",
    "You're always encouraged to read the official documentation. To that end, you can find the docs for the Sequential and Functional APIs here: \n",
    "\n",
    "https://www.tensorflow.org/guide/keras/sequential_model\n",
    "\n",
    "https://www.tensorflow.org/guide/keras/functional"
   ]
  },
  {
   "cell_type": "code",
   "execution_count": null,
   "metadata": {},
   "outputs": [],
   "source": []
  }
 ],
 "metadata": {
  "coursera": {
   "course_slug": "convolutional-neural-networks",
   "graded_item_id": "bwbJV",
   "launcher_item_id": "0TkXB"
  },
  "kernelspec": {
   "display_name": "Python [conda env:machineLearningEnv]",
   "language": "python",
   "name": "conda-env-machineLearningEnv-py"
  },
  "language_info": {
   "codemirror_mode": {
    "name": "ipython",
    "version": 3
   },
   "file_extension": ".py",
   "mimetype": "text/x-python",
   "name": "python",
   "nbconvert_exporter": "python",
   "pygments_lexer": "ipython3",
   "version": "3.7.12"
  }
 },
 "nbformat": 4,
 "nbformat_minor": 4
}
